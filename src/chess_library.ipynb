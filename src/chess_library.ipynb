{
 "cells": [
  {
   "cell_type": "code",
   "execution_count": 1,
   "metadata": {},
   "outputs": [],
   "source": [
    "import chess\n",
    "import chess.pgn\n",
    "import pandas as pd\n",
    "import requests"
   ]
  },
  {
   "cell_type": "code",
   "execution_count": 2,
   "metadata": {},
   "outputs": [],
   "source": [
    "a_openings = pd.read_csv(\"https://raw.githubusercontent.com/lichess-org/chess-openings/master/a.tsv\", sep=\"\\t\")\n",
    "b_openings = pd.read_csv(\"https://raw.githubusercontent.com/lichess-org/chess-openings/master/b.tsv\", sep=\"\\t\")\n",
    "c_openings = pd.read_csv(\"https://raw.githubusercontent.com/lichess-org/chess-openings/master/c.tsv\", sep=\"\\t\")\n",
    "d_openings = pd.read_csv(\"https://raw.githubusercontent.com/lichess-org/chess-openings/master/d.tsv\", sep=\"\\t\")\n",
    "e_openings = pd.read_csv(\"https://raw.githubusercontent.com/lichess-org/chess-openings/master/e.tsv\", sep=\"\\t\")\n",
    "openings = pd.concat([a_openings, b_openings, c_openings, d_openings, e_openings])\n"
   ]
  },
  {
   "cell_type": "code",
   "execution_count": 3,
   "metadata": {},
   "outputs": [
    {
     "data": {
      "text/html": [
       "<div>\n",
       "<style scoped>\n",
       "    .dataframe tbody tr th:only-of-type {\n",
       "        vertical-align: middle;\n",
       "    }\n",
       "\n",
       "    .dataframe tbody tr th {\n",
       "        vertical-align: top;\n",
       "    }\n",
       "\n",
       "    .dataframe thead th {\n",
       "        text-align: right;\n",
       "    }\n",
       "</style>\n",
       "<table border=\"1\" class=\"dataframe\">\n",
       "  <thead>\n",
       "    <tr style=\"text-align: right;\">\n",
       "      <th></th>\n",
       "      <th>eco</th>\n",
       "      <th>name</th>\n",
       "      <th>pgn</th>\n",
       "    </tr>\n",
       "  </thead>\n",
       "  <tbody>\n",
       "    <tr>\n",
       "      <th>0</th>\n",
       "      <td>A00</td>\n",
       "      <td>Amar Gambit</td>\n",
       "      <td>1. Nh3 d5 2. g3 e5 3. f4 Bxh3 4. Bxh3 exf4</td>\n",
       "    </tr>\n",
       "    <tr>\n",
       "      <th>1</th>\n",
       "      <td>A00</td>\n",
       "      <td>Amar Opening</td>\n",
       "      <td>1. Nh3</td>\n",
       "    </tr>\n",
       "    <tr>\n",
       "      <th>2</th>\n",
       "      <td>A00</td>\n",
       "      <td>Amar Opening: Gent Gambit</td>\n",
       "      <td>1. Nh3 d5 2. g3 e5 3. f4 Bxh3 4. Bxh3 exf4 5. ...</td>\n",
       "    </tr>\n",
       "    <tr>\n",
       "      <th>3</th>\n",
       "      <td>A00</td>\n",
       "      <td>Amar Opening: Paris Gambit</td>\n",
       "      <td>1. Nh3 d5 2. g3 e5 3. f4</td>\n",
       "    </tr>\n",
       "    <tr>\n",
       "      <th>4</th>\n",
       "      <td>A00</td>\n",
       "      <td>Amsterdam Attack</td>\n",
       "      <td>1. e3 e5 2. c4 d6 3. Nc3 Nc6 4. b3 Nf6</td>\n",
       "    </tr>\n",
       "    <tr>\n",
       "      <th>...</th>\n",
       "      <td>...</td>\n",
       "      <td>...</td>\n",
       "      <td>...</td>\n",
       "    </tr>\n",
       "    <tr>\n",
       "      <th>285</th>\n",
       "      <td>E98</td>\n",
       "      <td>King's Indian Defense: Orthodox Variation, Cla...</td>\n",
       "      <td>1. d4 Nf6 2. c4 g6 3. Nc3 Bg7 4. e4 d6 5. Nf3 ...</td>\n",
       "    </tr>\n",
       "    <tr>\n",
       "      <th>286</th>\n",
       "      <td>E98</td>\n",
       "      <td>King's Indian Defense: Orthodox Variation, Cla...</td>\n",
       "      <td>1. d4 Nf6 2. c4 g6 3. Nc3 Bg7 4. e4 d6 5. Nf3 ...</td>\n",
       "    </tr>\n",
       "    <tr>\n",
       "      <th>287</th>\n",
       "      <td>E98</td>\n",
       "      <td>King's Indian Defense: Orthodox Variation, Cla...</td>\n",
       "      <td>1. d4 Nf6 2. c4 g6 3. Nc3 Bg7 4. e4 d6 5. Nf3 ...</td>\n",
       "    </tr>\n",
       "    <tr>\n",
       "      <th>288</th>\n",
       "      <td>E99</td>\n",
       "      <td>King's Indian Defense: Orthodox Variation, Cla...</td>\n",
       "      <td>1. d4 Nf6 2. c4 g6 3. Nc3 Bg7 4. e4 d6 5. Nf3 ...</td>\n",
       "    </tr>\n",
       "    <tr>\n",
       "      <th>289</th>\n",
       "      <td>E99</td>\n",
       "      <td>King's Indian Defense: Orthodox Variation, Cla...</td>\n",
       "      <td>1. d4 Nf6 2. c4 g6 3. Nc3 Bg7 4. e4 d6 5. Nf3 ...</td>\n",
       "    </tr>\n",
       "  </tbody>\n",
       "</table>\n",
       "<p>3400 rows × 3 columns</p>\n",
       "</div>"
      ],
      "text/plain": [
       "     eco                                               name  \\\n",
       "0    A00                                        Amar Gambit   \n",
       "1    A00                                       Amar Opening   \n",
       "2    A00                          Amar Opening: Gent Gambit   \n",
       "3    A00                         Amar Opening: Paris Gambit   \n",
       "4    A00                                   Amsterdam Attack   \n",
       "..   ...                                                ...   \n",
       "285  E98  King's Indian Defense: Orthodox Variation, Cla...   \n",
       "286  E98  King's Indian Defense: Orthodox Variation, Cla...   \n",
       "287  E98  King's Indian Defense: Orthodox Variation, Cla...   \n",
       "288  E99  King's Indian Defense: Orthodox Variation, Cla...   \n",
       "289  E99  King's Indian Defense: Orthodox Variation, Cla...   \n",
       "\n",
       "                                                   pgn  \n",
       "0           1. Nh3 d5 2. g3 e5 3. f4 Bxh3 4. Bxh3 exf4  \n",
       "1                                               1. Nh3  \n",
       "2    1. Nh3 d5 2. g3 e5 3. f4 Bxh3 4. Bxh3 exf4 5. ...  \n",
       "3                             1. Nh3 d5 2. g3 e5 3. f4  \n",
       "4               1. e3 e5 2. c4 d6 3. Nc3 Nc6 4. b3 Nf6  \n",
       "..                                                 ...  \n",
       "285  1. d4 Nf6 2. c4 g6 3. Nc3 Bg7 4. e4 d6 5. Nf3 ...  \n",
       "286  1. d4 Nf6 2. c4 g6 3. Nc3 Bg7 4. e4 d6 5. Nf3 ...  \n",
       "287  1. d4 Nf6 2. c4 g6 3. Nc3 Bg7 4. e4 d6 5. Nf3 ...  \n",
       "288  1. d4 Nf6 2. c4 g6 3. Nc3 Bg7 4. e4 d6 5. Nf3 ...  \n",
       "289  1. d4 Nf6 2. c4 g6 3. Nc3 Bg7 4. e4 d6 5. Nf3 ...  \n",
       "\n",
       "[3400 rows x 3 columns]"
      ]
     },
     "execution_count": 3,
     "metadata": {},
     "output_type": "execute_result"
    }
   ],
   "source": [
    "openings"
   ]
  },
  {
   "cell_type": "code",
   "execution_count": 4,
   "metadata": {},
   "outputs": [],
   "source": [
    "def generate_board_from_opening(opening):\n",
    "    board = chess.Board()\n",
    "    for move in opening:\n",
    "        board.push_san(move)\n",
    "    return board"
   ]
  },
  {
   "cell_type": "code",
   "execution_count": 5,
   "metadata": {},
   "outputs": [],
   "source": [
    "def convert_opening_to_san(opening):\n",
    "    opening = opening[\"pgn\"]\n",
    "    opening = opening.split(\" \")\n",
    "    opening = [move for move in opening if not move.split(\".\")[0].isdigit()]\n",
    "    return opening"
   ]
  },
  {
   "cell_type": "code",
   "execution_count": 6,
   "metadata": {},
   "outputs": [
    {
     "data": {
      "text/plain": [
       "['d4', 'Nf6', 'Nf3', 'g6', 'Bf4']"
      ]
     },
     "execution_count": 6,
     "metadata": {},
     "output_type": "execute_result"
    }
   ],
   "source": [
    "opening = openings[openings[\"name\"] == \"London System\"].iloc[0]\n",
    "convert_opening_to_san(opening)"
   ]
  },
  {
   "cell_type": "code",
   "execution_count": 7,
   "metadata": {},
   "outputs": [],
   "source": [
    "opening = openings[openings[\"name\"] == \"London System\"].iloc[0]\n",
    "# remove digits\n",
    "board = generate_board_from_opening(convert_opening_to_san(opening))\n",
    "#game = chess.pgn.Game().from_board(board)\n",
    "game = chess.pgn.Game.from_board(board)"
   ]
  },
  {
   "cell_type": "code",
   "execution_count": 9,
   "metadata": {},
   "outputs": [],
   "source": [
    "from neo4j import GraphDatabase\n",
    "driver = GraphDatabase.driver(\"neo4j+s://bad3437e.databases.neo4j.io:7687\", auth=(\"neo4j\", \"redacted\"))\n",
    "def execute_query(query):\n",
    "    with driver.session() as session:\n",
    "        return session.run(query)"
   ]
  },
  {
   "cell_type": "code",
   "execution_count": 10,
   "metadata": {},
   "outputs": [],
   "source": [
    "def clean_string(string):\n",
    "    string = string.replace('\"', '\\\\\"')\n",
    "    string = string.replace(\"'\", \"\\\\'\")\n",
    "    string = string.replace(\"?\",\"\")\n",
    "    return string"
   ]
  },
  {
   "cell_type": "code",
   "execution_count": 11,
   "metadata": {},
   "outputs": [],
   "source": [
    "for _, opening in openings.iterrows():\n",
    "    board = generate_board_from_opening(convert_opening_to_san(opening))\n",
    "    game = chess.pgn.Game.from_board(board)\n",
    "    query = f\"CREATE (n:Opening {{name: \\\"{opening['name']}\\\", eco: \\\"{opening['eco']}\\\", fen: \\\"{board.fen()}\\\", pgn: \\\"{opening['pgn']}\\\"}})\"\n",
    "    execute_query(query)"
   ]
  }
 ],
 "metadata": {
  "kernelspec": {
   "display_name": "chess-opening-trainer",
   "language": "python",
   "name": "python3"
  },
  "language_info": {
   "codemirror_mode": {
    "name": "ipython",
    "version": 3
   },
   "file_extension": ".py",
   "mimetype": "text/x-python",
   "name": "python",
   "nbconvert_exporter": "python",
   "pygments_lexer": "ipython3",
   "version": "3.11.0"
  },
  "orig_nbformat": 4
 },
 "nbformat": 4,
 "nbformat_minor": 2
}
