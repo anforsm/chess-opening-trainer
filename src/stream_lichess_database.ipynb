{
 "cells": [
  {
   "cell_type": "code",
   "execution_count": 31,
   "metadata": {},
   "outputs": [],
   "source": [
    "DATABASE_URL = \"https://database.lichess.org/standard/lichess_db_standard_rated_2023-02.pgn.zst\"\n",
    "COLLECT_GAMES_OVER_ELO = 2500"
   ]
  },
  {
   "cell_type": "code",
   "execution_count": 3,
   "metadata": {},
   "outputs": [],
   "source": [
    "import requests\n",
    "import zstandard as zstd\n",
    "import io\n",
    "import chess.pgn"
   ]
  },
  {
   "cell_type": "code",
   "execution_count": 60,
   "metadata": {},
   "outputs": [],
   "source": [
    "def get_games_over_2000():\n",
    "    \"\"\"Get games from the lichess database with a rating over 2000.\"\"\"\n",
    "    games = []\n",
    "    r = requests.get(DATABASE_URL, stream=True)\n",
    "    dctx = zstd.ZstdDecompressor()\n",
    "    output_file = io.BytesIO()\n",
    "\n",
    "    with io.BufferedReader(r.raw, buffer_size=16*1024) as reader:\n",
    "        with dctx.stream_reader(reader) as decompressed_stream:\n",
    "            game_pgn = \"\"\n",
    "            for line in io.TextIOWrapper(decompressed_stream, encoding=\"utf-8\"):\n",
    "                if line.strip() == \"\":\n",
    "                    continue\n",
    "                if line.startswith(\"[Event\"):\n",
    "                    global game_count\n",
    "                    game_count += 1\n",
    "                    if game_pgn.strip():\n",
    "                        game = chess.pgn.read_game(io.StringIO(game_pgn))\n",
    "                        if int(game.headers[\"WhiteElo\"]) > COLLECT_GAMES_OVER_ELO and int(game.headers[\"BlackElo\"]) > COLLECT_GAMES_OVER_ELO:\n",
    "                            games.append(game)\n",
    "                    game_pgn = line\n",
    "                else:\n",
    "                    game_pgn += line\n",
    "    return games"
   ]
  },
  {
   "cell_type": "code",
   "execution_count": 47,
   "metadata": {},
   "outputs": [
    {
     "name": "stdout",
     "output_type": "stream",
     "text": [
      "Headers(Event='Rated Bullet game', Site='https://lichess.org/yceQKND6', Date='2023.02.01', Round='-', White='sebthebest', Black='beforeafter1', Result='1-0', BlackElo='2513', BlackRatingDiff='-5', ECO='C25', Opening='Vienna Game: Max Lange Defense', Termination='Normal', TimeControl='60+0', UTCDate='2023.02.01', UTCTime='00:00:12', WhiteElo='2510', WhiteRatingDiff='+6')\n",
      "Headers(Event='Rated Bullet game', Site='https://lichess.org/i2D9cMn6', Date='2023.02.01', Round='-', White='Thunder-In-Paradise', Black='BEAST_MODE_ON', Result='1-0', BlackElo='2633', BlackRatingDiff='-7', ECO='D22', Opening=\"Queen's Gambit Accepted: Alekhine Defense, Haberditz Variation\", Termination='Normal', TimeControl='60+0', UTCDate='2023.02.01', UTCTime='00:00:24', WhiteElo='2593', WhiteRatingDiff='+6', WhiteTitle='NM')\n",
      "Headers(Event='Rated Blitz game', Site='https://lichess.org/yxEGth3Y', Date='2023.02.01', Round='-', White='ForeverColle', Black='CRmessi05', Result='1-0', BlackElo='2530', BlackRatingDiff='-5', ECO='D13', Opening='Slav Defense: Exchange Variation', Termination='Normal', TimeControl='180+0', UTCDate='2023.02.01', UTCTime='00:00:20', WhiteElo='2583', WhiteRatingDiff='+5')\n",
      "Headers(Event='Rated Bullet game', Site='https://lichess.org/NJSsvXIK', Date='2023.02.01', Round='-', White='IMFAR', Black='White_7_Tiger', Result='1-0', BlackElo='2744', BlackRatingDiff='-4', ECO='C00', Opening='St. George Defense: New St. George, Three Pawn Attack', Termination='Normal', TimeControl='60+0', UTCDate='2023.02.01', UTCTime='00:00:22', WhiteElo='2890', WhiteRatingDiff='+3', WhiteTitle='IM')\n",
      "Headers(Event='Rated Bullet game', Site='https://lichess.org/fzW5DEUr', Date='2023.02.01', Round='-', White='Chipodejunin', Black='cobysters', Result='0-1', BlackElo='2570', BlackRatingDiff='+9', ECO='A00', Opening='Hungarian Opening', Termination='Normal', TimeControl='60+0', UTCDate='2023.02.01', UTCTime='00:00:14', WhiteElo='2548', WhiteRatingDiff='-5')\n",
      "Headers(Event='Rated Bullet game', Site='https://lichess.org/lxs3z8pt', Date='2023.02.01', Round='-', White='Flash_Marafon', Black='mysterious_expert', Result='1-0', BlackElo='2895', BlackRatingDiff='-5', BlackTitle='IM', ECO='B01', Opening='Scandinavian Defense: Mieses-Kotroc Variation', Termination='Normal', TimeControl='30+0', UTCDate='2023.02.01', UTCTime='00:00:42', WhiteElo='2932', WhiteRatingDiff='+7')\n",
      "Headers(Event='Rated Blitz game', Site='https://lichess.org/r2hmL5QP', Date='2023.02.01', Round='-', White='SingularDesire', Black='Kivurawnuru', Result='1-0', BlackElo='2839', BlackRatingDiff='-6', ECO='B52', Opening='Sicilian Defense: Canal Attack, Main Line', Termination='Normal', TimeControl='180+0', UTCDate='2023.02.01', UTCTime='00:00:38', WhiteElo='2809', WhiteRatingDiff='+7')\n",
      "Headers(Event='Rated Blitz game', Site='https://lichess.org/kcoUlvRa', Date='2023.02.01', Round='-', White='habitualthinker', Black='TheBigGreek', Result='1-0', BlackElo='2608', BlackRatingDiff='-5', BlackTitle='IM', ECO='B40', Opening='Sicilian Defense: French Variation', Termination='Time forfeit', TimeControl='180+0', UTCDate='2023.02.01', UTCTime='00:00:33', WhiteElo='2677', WhiteRatingDiff='+5')\n",
      "Headers(Event='Rated Bullet game', Site='https://lichess.org/AA9uIRq7', Date='2023.02.01', Round='-', White='Dmitriychesser', Black='froggy_tc', Result='1-0', BlackElo='2565', BlackRatingDiff='-4', ECO='A48', Opening='East Indian Defense', Termination='Time forfeit', TimeControl='30+0', UTCDate='2023.02.01', UTCTime='00:00:58', WhiteElo='2669', WhiteRatingDiff='+4')\n",
      "Headers(Event='Rated Bullet game', Site='https://lichess.org/MCV1sbqa', Date='2023.02.01', Round='-', White='Heisenberg01', Black='Arseniii_Nesterov', Result='0-1', BlackElo='2988', BlackRatingDiff='+7', BlackTitle='GM', ECO='A00', Opening='Zukertort Opening: Reversed Mexican Defense', Termination='Time forfeit', TimeControl='60+0', UTCDate='2023.02.01', UTCTime='00:01:17', WhiteElo='3054', WhiteRatingDiff='-7', WhiteTitle='FM')\n",
      "Headers(Event='Rated Bullet game', Site='https://lichess.org/Bfuo9JoK', Date='2023.02.01', Round='-', White='David_Castaneda', Black='hessed26', Result='1/2-1/2', BlackElo='2750', BlackRatingDiff='-2', BlackTitle='GM', ECO='A40', Opening='Modern Defense', Termination='Time forfeit', TimeControl='60+0', UTCDate='2023.02.01', UTCTime='00:01:02', WhiteElo='2593', WhiteRatingDiff='+3')\n",
      "Headers(Event='Rated Bullet game', Site='https://lichess.org/7qZRaM8B', Date='2023.02.01', Round='-', White='JasonVoorhees', Black='NB4', Result='0-1', BlackElo='2621', BlackRatingDiff='+4', BlackTitle='NM', ECO='C00', Opening='French Defense: Chigorin Variation', Termination='Normal', TimeControl='60+0', UTCDate='2023.02.01', UTCTime='00:01:05', WhiteElo='2527', WhiteRatingDiff='-4')\n",
      "Headers(Event='Rated Bullet game', Site='https://lichess.org/YJykn9s3', Date='2023.02.01', Round='-', White='markb0716', Black='pipita09', Result='1-0', BlackElo='2785', BlackRatingDiff='-7', BlackTitle='IM', ECO='A04', Opening='Zukertort Opening: Kingside Fianchetto', Termination='Time forfeit', TimeControl='60+0', UTCDate='2023.02.01', UTCTime='00:01:08', WhiteElo='2741', WhiteRatingDiff='+6', WhiteTitle='NM')\n",
      "Headers(Event='Rated Bullet game', Site='https://lichess.org/p8ge3Xog', Date='2023.02.01', Round='-', White='arnikka89', Black='jmpion7', Result='1-0', BlackElo='2631', BlackRatingDiff='-6', BlackTitle='CM', ECO='B50', Opening='Sicilian Defense', Termination='Normal', TimeControl='60+0', UTCDate='2023.02.01', UTCTime='00:01:10', WhiteElo='2606', WhiteRatingDiff='+7', WhiteTitle='FM')\n",
      "Headers(Event='Rated Bullet game', Site='https://lichess.org/pcdiZsvZ', Date='2023.02.01', Round='-', White='legochamp', Black='NotTodaySir', Result='0-1', BlackElo='2650', BlackRatingDiff='+5', ECO='B32', Opening='Sicilian Defense: Löwenthal Variation', Termination='Normal', TimeControl='60+0', UTCDate='2023.02.01', UTCTime='00:01:05', WhiteElo='2595', WhiteRatingDiff='-5')\n",
      "Headers(Event='Rated Bullet game', Site='https://lichess.org/puxI07RP', Date='2023.02.01', Round='-', White='uncatchable_j0e', Black='Tsckract', Result='1-0', BlackElo='2718', BlackRatingDiff='-4', ECO='B01', Opening='Scandinavian Defense', Termination='Normal', TimeControl='30+0', UTCDate='2023.02.01', UTCTime='00:01:15', WhiteElo='2830', WhiteRatingDiff='+4')\n",
      "Headers(Event='Rated Bullet game', Site='https://lichess.org/79cdO3vb', Date='2023.02.01', Round='-', White='Fightingphil13', Black='sssssssssss2121', Result='0-1', BlackElo='2553', BlackRatingDiff='+7', ECO='A00', Opening='Hungarian Opening', Termination='Time forfeit', TimeControl='60+0', UTCDate='2023.02.01', UTCTime='00:01:16', WhiteElo='2643', WhiteRatingDiff='-7')\n",
      "Headers(Event='Rated Blitz game', Site='https://lichess.org/ZhWlzUO3', Date='2023.02.01', Round='-', White='anhao', Black='dont_blunder', Result='0-1', BlackElo='2823', BlackRatingDiff='+4', ECO='A07', Opening=\"King's Indian Attack\", Termination='Normal', TimeControl='180+0', UTCDate='2023.02.01', UTCTime='00:01:36', WhiteElo='2731', WhiteRatingDiff='-4', WhiteTitle='NM')\n",
      "Headers(Event='Rated Bullet game', Site='https://lichess.org/5Iq8pXpo', Date='2023.02.01', Round='-', White='beforeafter1', Black='sebthebest', Result='1-0', BlackElo='2516', BlackRatingDiff='-6', ECO='C25', Opening='Vienna Game: Paulsen Variation', Termination='Time forfeit', TimeControl='60+0', UTCDate='2023.02.01', UTCTime='00:02:05', WhiteElo='2508', WhiteRatingDiff='+6')\n",
      "Headers(Event='Rated Bullet game', Site='https://lichess.org/Bz0ErxnQ', Date='2023.02.01', Round='-', White='GoodGamerpro100', Black='bazukat', Result='0-1', BlackElo='2534', BlackRatingDiff='+7', ECO='A06', Opening='Zukertort Opening', Termination='Normal', TimeControl='60+0', UTCDate='2023.02.01', UTCTime='00:01:34', WhiteElo='2604', WhiteRatingDiff='-7', WhiteTitle='CM')\n",
      "Headers(Event='Rated Blitz game', Site='https://lichess.org/crVsy7Jf', Date='2023.02.01', Round='-', White='angelmarqz', Black='wallywally', Result='0-1', BlackElo='2706', BlackRatingDiff='+3', ECO='B56', Opening='Sicilian Defense: Kupreichik Variation', Termination='Time forfeit', TimeControl='180+0', UTCDate='2023.02.01', UTCTime='00:01:52', WhiteElo='2540', WhiteRatingDiff='-3', WhiteTitle='CM')\n",
      "Headers(Event='Rated Bullet game', Site='https://lichess.org/55tSkYps', Date='2023.02.01', Round='-', White='anonnnnnnn', Black='cuervo22', Result='1-0', BlackElo='2587', BlackRatingDiff='-5', ECO='A01', Opening='Nimzo-Larsen Attack', Termination='Normal', TimeControl='60+0', UTCDate='2023.02.01', UTCTime='00:02:16', WhiteElo='2578', WhiteRatingDiff='+6')\n",
      "Headers(Event='Rated Bullet game', Site='https://lichess.org/uVCtXl1i', Date='2023.02.01', Round='-', White='jjromero', Black='Monkeyibuljic', Result='1/2-1/2', BlackElo='2652', BlackRatingDiff='-1', ECO='A04', Opening='Zukertort Opening: Queenside Fianchetto Variation', Termination='Normal', TimeControl='60+0', UTCDate='2023.02.01', UTCTime='00:01:55', WhiteElo='2584', WhiteRatingDiff='+2', WhiteTitle='IM')\n",
      "Headers(Event='Rated Bullet game', Site='https://lichess.org/dBVaDZwb', Date='2023.02.01', Round='-', White='ResoluteBot', Black='Nikitosikbot', Result='1/2-1/2', BlackElo='2842', BlackRatingDiff='+1', BlackTitle='BOT', ECO='D79', Opening='Neo-Grünfeld Defense: Ultra-delayed Exchange Variation', Termination='Normal', TimeControl='60+1', UTCDate='2023.02.01', UTCTime='00:02:34', WhiteElo='2864', WhiteRatingDiff='-1', WhiteTitle='BOT')\n",
      "Headers(Event='Rated Bullet game', Site='https://lichess.org/vfLMvzmP', Date='2023.02.01', Round='-', White='NB4', Black='cobysters', Result='0-1', BlackElo='2579', BlackRatingDiff='+9', ECO='A43', Opening='Benoni Defense: Benoni-Indian Defense, Kingside Move Order', Termination='Time forfeit', TimeControl='60+0', UTCDate='2023.02.01', UTCTime='00:02:34', WhiteElo='2625', WhiteRatingDiff='-6', WhiteTitle='NM')\n",
      "Headers(Event='Rated Bullet game', Site='https://lichess.org/jeGjyHpZ', Date='2023.02.01', Round='-', White='froggy_tc', Black='Dmitriychesser', Result='0-1', BlackElo='2673', BlackRatingDiff='+4', ECO='B06', Opening='Modern Defense', Termination='Normal', TimeControl='30+0', UTCDate='2023.02.01', UTCTime='00:02:04', WhiteElo='2561', WhiteRatingDiff='-4')\n",
      "Headers(Event='Rated Blitz game', Site='https://lichess.org/89Bqyd1r', Date='2023.02.01', Round='-', White='KuanyshClub', Black='extermo44', Result='0-1', BlackElo='2514', BlackRatingDiff='+6', ECO='E16', Opening=\"Queen's Indian Defense: Riumin Variation\", Termination='Time forfeit', TimeControl='180+2', UTCDate='2023.02.01', UTCTime='00:02:23', WhiteElo='2516', WhiteRatingDiff='-5')\n",
      "Headers(Event='Rated Bullet game', Site='https://lichess.org/GGbi25d5', Date='2023.02.01', Round='-', White='krakukra', Black='matederei', Result='1/2-1/2', BlackElo='2593', BlackRatingDiff='+3', ECO='C23', Opening=\"Bishop's Opening\", Termination='Time forfeit', TimeControl='60+0', UTCDate='2023.02.01', UTCTime='00:02:31', WhiteElo='2810', WhiteRatingDiff='-3', WhiteTitle='GM')\n",
      "Headers(Event='Rated Bullet game', Site='https://lichess.org/6l63r69s', Date='2023.02.01', Round='-', White='Dmitriychesser', Black='froggy_tc', Result='1-0', BlackElo='2557', BlackRatingDiff='-3', ECO='A43', Opening='Benoni Defense: Old Benoni', Termination='Normal', TimeControl='30+0', UTCDate='2023.02.01', UTCTime='00:03:00', WhiteElo='2677', WhiteRatingDiff='+4')\n",
      "Headers(Event='Rated Bullet game', Site='https://lichess.org/UrHERr7g', Date='2023.02.01', Round='-', White='jmpion7', Black='arnikka89', Result='1-0', BlackElo='2613', BlackRatingDiff='-6', BlackTitle='FM', ECO='B12', Opening='Caro-Kann Defense: Advance Variation, Botvinnik-Carls Defense', Termination='Time forfeit', TimeControl='60+0', UTCDate='2023.02.01', UTCTime='00:02:43', WhiteElo='2625', WhiteRatingDiff='+5', WhiteTitle='CM')\n",
      "Headers(Event='Rated Bullet game', Site='https://lichess.org/yy01NXf9', Date='2023.02.01', Round='-', White='froggy_tc', Black='Dmitriychesser', Result='0-1', BlackElo='2681', BlackRatingDiff='+4', ECO='B06', Opening='Modern Defense: Three Pawns Attack', Termination='Normal', TimeControl='30+0', UTCDate='2023.02.01', UTCTime='00:03:12', WhiteElo='2554', WhiteRatingDiff='-4')\n",
      "Headers(Event='Rated Bullet game', Site='https://lichess.org/jyJjhWqG', Date='2023.02.01', Round='-', White='acashmoney', Black='White_7_Tiger', Result='1-0', BlackElo='2740', BlackRatingDiff='-8', ECO='A25', Opening=\"English Opening: King's English Variation, Reversed Closed Sicilian\", Termination='Normal', TimeControl='60+0', UTCDate='2023.02.01', UTCTime='00:03:08', WhiteElo='2605', WhiteRatingDiff='+8', WhiteTitle='NM')\n",
      "Headers(Event='Rated Bullet game', Site='https://lichess.org/2IjlwMPg', Date='2023.02.01', Round='-', White='pipita09', Black='markb0716', Result='1/2-1/2', BlackElo='2747', BlackRatingDiff='+1', BlackTitle='NM', ECO='A01', Opening='Nimzo-Larsen Attack: English Variation', Termination='Normal', TimeControl='60+0', UTCDate='2023.02.01', UTCTime='00:03:21', WhiteElo='2778', WhiteRatingDiff='+0', WhiteTitle='IM')\n",
      "Headers(Event='Rated Bullet game', Site='https://lichess.org/RCE4pfsm', Date='2023.02.01', Round='-', White='Leon_Livaic', Black='IMFAR', Result='1-0', BlackElo='2893', BlackRatingDiff='-5', BlackTitle='IM', ECO='E71', Opening=\"King's Indian Defense: Makogonov Variation\", Termination='Normal', TimeControl='60+0', UTCDate='2023.02.01', UTCTime='00:03:22', WhiteElo='2902', WhiteRatingDiff='+6', WhiteTitle='GM')\n",
      "Headers(Event='Rated Bullet game', Site='https://lichess.org/ye2IwVgS', Date='2023.02.01', Round='-', White='hessed26', Black='David_Castaneda', Result='1-0', BlackElo='2596', BlackRatingDiff='-4', ECO='A01', Opening='Nimzo-Larsen Attack: Classical Variation', Termination='Time forfeit', TimeControl='60+0', UTCDate='2023.02.01', UTCTime='00:03:23', WhiteElo='2748', WhiteRatingDiff='+3', WhiteTitle='GM')\n",
      "Headers(Event='Rated Bullet game', Site='https://lichess.org/pWJEuapW', Date='2023.02.01', Round='-', White='bazukat', Black='GoodGamerpro100', Result='1-0', BlackElo='2597', BlackRatingDiff='-7', BlackTitle='CM', ECO='B00', Opening='Carr Defense', Termination='Time forfeit', TimeControl='60+0', UTCDate='2023.02.01', UTCTime='00:03:17', WhiteElo='2541', WhiteRatingDiff='+6')\n",
      "Headers(Event='Rated Bullet game', Site='https://lichess.org/tx64ItXX', Date='2023.02.01', Round='-', White='Arseniii_Nesterov', Black='Heisenberg01', Result='1-0', BlackElo='3047', BlackRatingDiff='-7', BlackTitle='FM', ECO='A40', Opening='Modern Defense', Termination='Normal', TimeControl='60+0', UTCDate='2023.02.01', UTCTime='00:03:26', WhiteElo='2995', WhiteRatingDiff='+6', WhiteTitle='GM')\n",
      "Headers(Event='Rated Blitz game', Site='https://lichess.org/DQumOe3O', Date='2023.02.01', Round='-', White='tacticskiddo', Black='jeden94', Result='1-0', BlackElo='2526', BlackRatingDiff='-5', BlackTitle='IM', ECO='B22', Opening='Sicilian Defense: Alapin Variation, Stoltz Attack', Termination='Normal', TimeControl='180+0', UTCDate='2023.02.01', UTCTime='00:03:28', WhiteElo='2610', WhiteRatingDiff='+4')\n",
      "Headers(Event='Rated Bullet game', Site='https://lichess.org/ckg3350y', Date='2023.02.01', Round='-', White='Tsckract', Black='legochamp', Result='0-1', BlackElo='2590', BlackRatingDiff='+8', ECO='B22', Opening='Sicilian Defense: Alapin Variation', Termination='Normal', TimeControl='30+0', UTCDate='2023.02.01', UTCTime='00:03:18', WhiteElo='2714', WhiteRatingDiff='-8')\n",
      "Headers(Event='Rated Bullet game', Site='https://lichess.org/MjzKTqXJ', Date='2023.02.01', Round='-', White='NotTodaySir', Black='twoyearsold', Result='1-0', BlackElo='2648', BlackRatingDiff='-6', ECO='B02', Opening='Alekhine Defense: Brooklyn Variation', Termination='Time forfeit', TimeControl='60+0', UTCDate='2023.02.01', UTCTime='00:03:19', WhiteElo='2655', WhiteRatingDiff='+6')\n",
      "Headers(Event='Rated Blitz game', Site='https://lichess.org/JyqtkGht', Date='2023.02.01', Round='-', White='Sibelius_92', Black='chesspawnrookking', Result='0-1', BlackElo='2523', BlackRatingDiff='+5', ECO='D01', Opening='Rapport-Jobava System', Termination='Normal', TimeControl='180+0', UTCDate='2023.02.01', UTCTime='00:03:40', WhiteElo='2524', WhiteRatingDiff='-6', WhiteTitle='CM')\n",
      "Headers(Event='Rated Blitz game', Site='https://lichess.org/2BTpABpu', Date='2023.02.01', Round='-', White='CRmessi05', Black='Tactrics', Result='0-1', BlackElo='2745', BlackRatingDiff='+2', BlackTitle='IM', ECO='A15', Opening=\"English Opening: Anglo-Indian Defense, King's Knight Variation\", Termination='Normal', TimeControl='180+0', UTCDate='2023.02.01', UTCTime='00:03:36', WhiteElo='2525', WhiteRatingDiff='-2')\n",
      "Headers(Event='Rated Bullet game', Site='https://lichess.org/1y1SZFOk', Date='2023.02.01', Round='-', White='sssssssssss2121', Black='svtv', Result='1-0', BlackElo='2629', BlackRatingDiff='-7', ECO='A05', Opening=\"King's Indian Attack: Symmetrical Defense\", Termination='Normal', TimeControl='60+0', UTCDate='2023.02.01', UTCTime='00:03:38', WhiteElo='2560', WhiteRatingDiff='+7')\n",
      "Headers(Event='Rated Bullet game', Site='https://lichess.org/pYGylCrq', Date='2023.02.01', Round='-', White='Dmitriychesser', Black='froggy_tc', Result='1-0', BlackElo='2550', BlackRatingDiff='-4', ECO='A43', Opening='Benoni Defense: Old Benoni', Termination='Normal', TimeControl='30+0', UTCDate='2023.02.01', UTCTime='00:03:52', WhiteElo='2685', WhiteRatingDiff='+3')\n",
      "Headers(Event='Rated Bullet game', Site='https://lichess.org/YPRsyNzx', Date='2023.02.01', Round='-', White='sebthebest', Black='beforeafter1', Result='1-0', BlackElo='2514', BlackRatingDiff='-6', ECO='B00', Opening='Pirc Defense', Termination='Normal', TimeControl='60+0', UTCDate='2023.02.01', UTCTime='00:04:16', WhiteElo='2510', WhiteRatingDiff='+6')\n",
      "Headers(Event='Rated Bullet game', Site='https://lichess.org/nUJfMPGB', Date='2023.02.01', Round='-', White='cuervo22', Black='anonnnnnnn', Result='1-0', BlackElo='2584', BlackRatingDiff='-6', ECO='B06', Opening='Modern Defense', Termination='Normal', TimeControl='60+0', UTCDate='2023.02.01', UTCTime='00:04:06', WhiteElo='2582', WhiteRatingDiff='+5')\n",
      "Headers(Event='Rated Bullet game', Site='https://lichess.org/3Vw3JMzG', Date='2023.02.01', Round='-', White='Thunder-In-Paradise', Black='Monkeyibuljic', Result='1-0', BlackElo='2651', BlackRatingDiff='-6', ECO='A31', Opening='English Opening: Symmetrical Variation, Anti-Benoni Variation', Termination='Normal', TimeControl='60+0', UTCDate='2023.02.01', UTCTime='00:04:30', WhiteElo='2599', WhiteRatingDiff='+7', WhiteTitle='NM')\n",
      "Headers(Event='Rated Bullet game', Site='https://lichess.org/kctrxY0H', Date='2023.02.01', Round='-', White='Fightingphil13', Black='GrafDeMonteKritz', Result='0-1', BlackElo='2622', BlackRatingDiff='+6', ECO='A00', Opening='Hungarian Opening: Slav Formation', Termination='Normal', TimeControl='60+0', UTCDate='2023.02.01', UTCTime='00:04:15', WhiteElo='2636', WhiteRatingDiff='-6')\n",
      "Headers(Event='Rated Blitz game', Site='https://lichess.org/9y6QOyN6', Date='2023.02.01', Round='-', White='gmbmw', Black='Sibelius_92', Result='0-1', BlackElo='2518', BlackRatingDiff='+7', BlackTitle='CM', ECO='C01', Opening='French Defense: Exchange Variation', Termination='Normal', TimeControl='180+0', UTCDate='2023.02.01', UTCTime='00:04:19', WhiteElo='2562', WhiteRatingDiff='-6', WhiteTitle='NM')\n",
      "Headers(Event='Rated Bullet game', Site='https://lichess.org/WIGFS0gW', Date='2023.02.01', Round='-', White='legochamp', Black='Tsckract', Result='1-0', BlackElo='2706', BlackRatingDiff='-7', ECO='A04', Opening='Zukertort Opening: Ross Gambit', Termination='Normal', TimeControl='30+0', UTCDate='2023.02.01', UTCTime='00:04:31', WhiteElo='2598', WhiteRatingDiff='+7')\n",
      "Headers(Event='Rated Bullet game', Site='https://lichess.org/YXYx1QJz', Date='2023.02.01', Round='-', White='froggy_tc', Black='Dmitriychesser', Result='0-1', BlackElo='2688', BlackRatingDiff='+4', ECO='B06', Opening='Modern Defense: Three Pawns Attack', Termination='Normal', TimeControl='30+0', UTCDate='2023.02.01', UTCTime='00:04:27', WhiteElo='2546', WhiteRatingDiff='-3')\n",
      "Headers(Event='Rated Blitz game', Site='https://lichess.org/xxEehSRv', Date='2023.02.01', Round='-', White='PchelkinVK', Black='mancillador', Result='1/2-1/2', BlackElo='2636', BlackRatingDiff='+0', BlackTitle='IM', ECO='C11', Opening='French Defense: Classical Variation, Steinitz Variation', Termination='Time forfeit', TimeControl='180+0', UTCDate='2023.02.01', UTCTime='00:04:34', WhiteElo='2624', WhiteRatingDiff='+0', WhiteTitle='CM')\n",
      "Headers(Event='Rated Bullet game', Site='https://lichess.org/yNbQGQrB', Date='2023.02.01', Round='-', White='arnikka89', Black='jmpion7', Result='0-1', BlackElo='2630', BlackRatingDiff='+6', BlackTitle='CM', ECO='C62', Opening='Ruy Lopez: Steinitz Defense', Termination='Time forfeit', TimeControl='60+0', UTCDate='2023.02.01', UTCTime='00:04:54', WhiteElo='2607', WhiteRatingDiff='-5', WhiteTitle='FM')\n",
      "Headers(Event='Rated Bullet game', Site='https://lichess.org/Uij4QD8i', Date='2023.02.01', Round='-', White='cobysters', Black='MonsieurHolmes', Result='0-1', BlackElo='2954', BlackRatingDiff='+1', BlackTitle='GM', ECO='A34', Opening='English Opening: Symmetrical Variation, Normal Variation', Termination='Normal', TimeControl='60+0', UTCDate='2023.02.01', UTCTime='00:05:02', WhiteElo='2588', WhiteRatingDiff='-2')\n",
      "Headers(Event='Rated Bullet game', Site='https://lichess.org/Rfe88ndO', Date='2023.02.01', Round='-', White='Monkeyibuljic', Black='NB4', Result='1-0', BlackElo='2619', BlackRatingDiff='-6', BlackTitle='NM', ECO='C03', Opening='French Defense: Tarrasch Variation', Termination='Normal', TimeControl='60+0', UTCDate='2023.02.01', UTCTime='00:05:02', WhiteElo='2645', WhiteRatingDiff='+5')\n",
      "Headers(Event='Rated Bullet game', Site='https://lichess.org/DsqNiwdO', Date='2023.02.01', Round='-', White='hypokagne1', Black='Charlie_nic', Result='0-1', BlackElo='2504', BlackRatingDiff='+6', BlackTitle='IM', ECO='B06', Opening='Modern Defense', Termination='Normal', TimeControl='60+0', UTCDate='2023.02.01', UTCTime='00:04:44', WhiteElo='2540', WhiteRatingDiff='-6')\n",
      "Headers(Event='Rated Bullet game', Site='https://lichess.org/1ilXiN9o', Date='2023.02.01', Round='-', White='markb0716', Black='pipita09', Result='1-0', BlackElo='2778', BlackRatingDiff='-6', BlackTitle='IM', ECO='A07', Opening=\"King's Indian Attack: Keres Variation\", Termination='Normal', TimeControl='60+0', UTCDate='2023.02.01', UTCTime='00:04:56', WhiteElo='2748', WhiteRatingDiff='+6', WhiteTitle='NM')\n",
      "Headers(Event='Rated Bullet game', Site='https://lichess.org/E7abWmaV', Date='2023.02.01', Round='-', White='Pupilo_Crazy', Black='Pedrosky007', Result='0-1', BlackElo='2505', BlackRatingDiff='+7', ECO='B30', Opening='Sicilian Defense: Nyezhmetdinov-Rossolimo Attack', Termination='Time forfeit', TimeControl='60+0', UTCDate='2023.02.01', UTCTime='00:04:58', WhiteElo='2555', WhiteRatingDiff='-13')\n",
      "Headers(Event='Rated Blitz game', Site='https://lichess.org/H2k31eBy', Date='2023.02.01', Round='-', White='azotador', Black='AGM2024', Result='1/2-1/2', BlackElo='2553', BlackRatingDiff='+1', ECO='B23', Opening='Sicilian Defense: Grand Prix Attack, Schofman Variation', Termination='Normal', TimeControl='180+0', UTCDate='2023.02.01', UTCTime='00:05:17', WhiteElo='2627', WhiteRatingDiff='-1')\n",
      "Headers(Event='Rated Blitz game', Site='https://lichess.org/v5vIAPNo', Date='2023.02.01', Round='-', White='Spiegelstufe', Black='zilbermanov', Result='1-0', BlackElo='2534', BlackRatingDiff='-5', ECO='D14', Opening='Slav Defense: Exchange Variation, Trifunovic Variation', Termination='Time forfeit', TimeControl='180+0', UTCDate='2023.02.01', UTCTime='00:05:17', WhiteElo='2538', WhiteRatingDiff='+6')\n",
      "Headers(Event='Rated Bullet game', Site='https://lichess.org/jrBTNcLp', Date='2023.02.01', Round='-', White='White_7_Tiger', Black='acashmoney', Result='0-1', BlackElo='2613', BlackRatingDiff='+8', BlackTitle='NM', ECO='A00', Opening='Mieses Opening', Termination='Normal', TimeControl='60+0', UTCDate='2023.02.01', UTCTime='00:05:18', WhiteElo='2732', WhiteRatingDiff='-7')\n",
      "Headers(Event='Rated Bullet game', Site='https://lichess.org/EhcUEC2B', Date='2023.02.01', Round='-', White='DrNoobMater_LC0', Black='caissa-x', Result='1/2-1/2', BlackElo='2898', BlackRatingDiff='-1', BlackTitle='BOT', ECO='C50', Opening='Giuoco Piano', Termination='Normal', TimeControl='60+1', UTCDate='2023.02.01', UTCTime='00:05:14', WhiteElo='2819', WhiteRatingDiff='+1', WhiteTitle='BOT')\n",
      "Headers(Event='Rated Blitz game', Site='https://lichess.org/bVn0Phuy', Date='2023.02.01', Round='-', White='Kivurawnuru', Black='SingularDesire', Result='0-1', BlackElo='2816', BlackRatingDiff='+6', ECO='C67', Opening=\"Ruy Lopez: Berlin Defense, l'Hermet Variation, Berlin Wall Defense\", Termination='Normal', TimeControl='180+0', UTCDate='2023.02.01', UTCTime='00:05:16', WhiteElo='2833', WhiteRatingDiff='-6')\n",
      "Headers(Event='Rated Blitz game', Site='https://lichess.org/Erh5Adbw', Date='2023.02.01', Round='-', White='Kafkiano_X90', Black='Greyworm', Result='0-1', BlackElo='2728', BlackRatingDiff='+4', BlackTitle='GM', ECO='B23', Opening='Sicilian Defense: Closed', Termination='Normal', TimeControl='180+0', UTCDate='2023.02.01', UTCTime='00:05:10', WhiteElo='2604', WhiteRatingDiff='-4')\n",
      "Headers(Event='Rated Bullet game', Site='https://lichess.org/VXmOTqB5', Date='2023.02.01', Round='-', White='svtv', Black='matederei', Result='0-1', BlackElo='2596', BlackRatingDiff='+6', ECO='E06', Opening='Catalan Opening: Closed', Termination='Normal', TimeControl='60+0', UTCDate='2023.02.01', UTCTime='00:05:11', WhiteElo='2622', WhiteRatingDiff='-6')\n",
      "Headers(Event='Rated Bullet game', Site='https://lichess.org/1farEFhn', Date='2023.02.01', Round='-', White='IMFAR', Black='Leon_Livaic', Result='0-1', BlackElo='2908', BlackRatingDiff='+5', BlackTitle='GM', ECO='C02', Opening='French Defense: Advance Variation, Euwe Variation', Termination='Normal', TimeControl='60+0', UTCDate='2023.02.01', UTCTime='00:05:26', WhiteElo='2888', WhiteRatingDiff='-6', WhiteTitle='IM')\n",
      "Headers(Event='Rated Bullet game', Site='https://lichess.org/RcgzUjLb', Date='2023.02.01', Round='-', White='David_Castaneda', Black='hessed26', Result='0-1', BlackElo='2751', BlackRatingDiff='+4', BlackTitle='GM', ECO='A40', Opening='Horwitz Defense', Termination='Normal', TimeControl='60+0', UTCDate='2023.02.01', UTCTime='00:05:42', WhiteElo='2592', WhiteRatingDiff='-3')\n",
      "Headers(Event='Rated Blitz game', Site='https://lichess.org/OIreJUmV', Date='2023.02.01', Round='-', White='Greifax', Black='MiroMiljkovic', Result='0-1', BlackElo='2528', BlackRatingDiff='+6', BlackTitle='GM', ECO='B23', Opening='Sicilian Defense: Grand Prix Attack', Termination='Normal', TimeControl='180+0', UTCDate='2023.02.01', UTCTime='00:05:42', WhiteElo='2537', WhiteRatingDiff='-6')\n",
      "Headers(Event='Rated Bullet game', Site='https://lichess.org/Aa9SfyA4', Date='2023.02.01', Round='-', White='hessed26', Black='David_Castaneda', Result='0-1', BlackElo='2589', BlackRatingDiff='+8', ECO='A01', Opening='Nimzo-Larsen Attack: Classical Variation', Termination='Normal', TimeControl='60+0', UTCDate='2023.02.01', UTCTime='00:05:57', WhiteElo='2755', WhiteRatingDiff='-8', WhiteTitle='GM')\n",
      "Headers(Event='Rated Bullet game', Site='https://lichess.org/ubDn4VER', Date='2023.02.01', Round='-', White='jfk2012', Black='NotTodaySir', Result='0-1', BlackElo='2661', BlackRatingDiff='+7', ECO='A01', Opening='Nimzo-Larsen Attack: Classical Variation', Termination='Normal', TimeControl='60+0', UTCDate='2023.02.01', UTCTime='00:05:36', WhiteElo='2755', WhiteRatingDiff='-7')\n",
      "Headers(Event='Rated Bullet game', Site='https://lichess.org/0kLeA4bd', Date='2023.02.01', Round='-', White='Dmitriychesser', Black='froggy_tc', Result='0-1', BlackElo='2543', BlackRatingDiff='+8', ECO='A43', Opening='Benoni Defense: Old Benoni', Termination='Time forfeit', TimeControl='30+0', UTCDate='2023.02.01', UTCTime='00:05:30', WhiteElo='2692', WhiteRatingDiff='-8')\n",
      "Headers(Event='Rated Bullet game', Site='https://lichess.org/0sLJ4JE2', Date='2023.02.01', Round='-', White='twoyearsold', Black='GoodGamerpro100', Result='0-1', BlackElo='2590', BlackRatingDiff='+7', BlackTitle='CM', ECO='A46', Opening='Indian Defense: Spielmann-Indian', Termination='Normal', TimeControl='60+0', UTCDate='2023.02.01', UTCTime='00:05:30', WhiteElo='2642', WhiteRatingDiff='-6')\n",
      "Headers(Event='Rated Bullet game', Site='https://lichess.org/L8KiqIKA', Date='2023.02.01', Round='-', White='Pikachuuu123', Black='anonnnnnnn', Result='0-1', BlackElo='2578', BlackRatingDiff='+6', ECO='A10', Opening='English Opening: Great Snake Variation', Termination='Time forfeit', TimeControl='60+0', UTCDate='2023.02.01', UTCTime='00:06:00', WhiteElo='2549', WhiteRatingDiff='-5')\n",
      "Headers(Event='Rated Bullet game', Site='https://lichess.org/ZK6auJa6', Date='2023.02.01', Round='-', White='markb0716', Black='Thunder-In-Paradise', Result='1-0', BlackElo='2606', BlackRatingDiff='-4', BlackTitle='NM', ECO='E18', Opening=\"Queen's Indian Defense: Classical Variation, Traditional Variation\", Termination='Time forfeit', TimeControl='60+0', UTCDate='2023.02.01', UTCTime='00:06:13', WhiteElo='2754', WhiteRatingDiff='+4', WhiteTitle='NM')\n",
      "Headers(Event='Rated Bullet game', Site='https://lichess.org/2NOdAavF', Date='2023.02.01', Round='-', White='froggy_tc', Black='Dmitriychesser', Result='1-0', BlackElo='2684', BlackRatingDiff='-8', ECO='B00', Opening='Rat Defense: Harmonist', Termination='Time forfeit', TimeControl='30+0', UTCDate='2023.02.01', UTCTime='00:06:36', WhiteElo='2551', WhiteRatingDiff='+8')\n",
      "Headers(Event='Rated Bullet game', Site='https://lichess.org/3WrnFGd9', Date='2023.02.01', Round='-', White='jmpion7', Black='arnikka89', Result='0-1', BlackElo='2602', BlackRatingDiff='+6', BlackTitle='FM', ECO='B54', Opening='Sicilian Defense: Modern Variations, Main Line', Termination='Time forfeit', TimeControl='60+0', UTCDate='2023.02.01', UTCTime='00:06:57', WhiteElo='2636', WhiteRatingDiff='-7', WhiteTitle='CM')\n",
      "Headers(Event='Rated Bullet game', Site='https://lichess.org/H0WNOMfP', Date='2023.02.01', Round='-', White='Monkeyibuljic', Black='Fightingphil13', Result='1-0', BlackElo='2630', BlackRatingDiff='-5', ECO='B00', Opening='Nimzowitsch Defense: Mikenas Variation', Termination='Normal', TimeControl='60+0', UTCDate='2023.02.01', UTCTime='00:06:38', WhiteElo='2650', WhiteRatingDiff='+5')\n",
      "Headers(Event='Rated Bullet game', Site='https://lichess.org/LsxiKyRG', Date='2023.02.01', Round='-', White='jfk2012', Black='svtv', Result='1-0', BlackElo='2616', BlackRatingDiff='-3', ECO='B23', Opening='Sicilian Defense: Closed', Termination='Normal', TimeControl='60+0', UTCDate='2023.02.01', UTCTime='00:06:50', WhiteElo='2748', WhiteRatingDiff='+4')\n",
      "Headers(Event='Rated Bullet game', Site='https://lichess.org/hHpSAfkB', Date='2023.02.01', Round='-', White='acashmoney', Black='White_7_Tiger', Result='0-1', BlackElo='2725', BlackRatingDiff='+4', ECO='A40', Opening=\"Queen's Pawn Game\", Termination='Normal', TimeControl='60+0', UTCDate='2023.02.01', UTCTime='00:06:45', WhiteElo='2621', WhiteRatingDiff='-4', WhiteTitle='NM')\n",
      "Headers(Event='Rated Bullet game', Site='https://lichess.org/fF0sSXnw', Date='2023.02.01', Round='-', White='NB4', Black='twoyearsold', Result='1-0', BlackElo='2636', BlackRatingDiff='-6', ECO='A48', Opening='East Indian Defense', Termination='Normal', TimeControl='60+0', UTCDate='2023.02.01', UTCTime='00:06:46', WhiteElo='2613', WhiteRatingDiff='+7', WhiteTitle='NM')\n",
      "Headers(Event='Rated Bullet game', Site='https://lichess.org/mLSpZXfh', Date='2023.02.01', Round='-', White='NotTodaySir', Black='GoodGamerpro100', Result='1-0', BlackElo='2597', BlackRatingDiff='-5', BlackTitle='CM', ECO='C53', Opening='Italian Game: Classical Variation, Giuoco Pianissimo', Termination='Normal', TimeControl='60+0', UTCDate='2023.02.01', UTCTime='00:06:48', WhiteElo='2668', WhiteRatingDiff='+5')\n",
      "Headers(Event='Rated Blitz game', Site='https://lichess.org/OVCE3Y96', Date='2023.02.01', Round='-', White='tacticskiddo', Black='TheBigGreek', Result='1-0', BlackElo='2603', BlackRatingDiff='-5', BlackTitle='IM', ECO='B22', Opening='Sicilian Defense: Alapin Variation', Termination='Normal', TimeControl='180+0', UTCDate='2023.02.01', UTCTime='00:06:43', WhiteElo='2614', WhiteRatingDiff='+5')\n",
      "Headers(Event='Rated Bullet game', Site='https://lichess.org/caQJoTZe', Date='2023.02.01', Round='-', White='Leon_Livaic', Black='IMFAR', Result='1-0', BlackElo='2882', BlackRatingDiff='-5', BlackTitle='IM', ECO='B40', Opening='Sicilian Defense: French Variation', Termination='Normal', TimeControl='60+0', UTCDate='2023.02.01', UTCTime='00:06:52', WhiteElo='2913', WhiteRatingDiff='+5', WhiteTitle='GM')\n",
      "Headers(Event='Rated Bullet game', Site='https://lichess.org/uCesCJzr', Date='2023.02.01', Round='-', White='MonsieurHolmes', Black='cobysters', Result='1-0', BlackElo='2586', BlackRatingDiff='-1', ECO='A61', Opening='Benoni Defense', Termination='Normal', TimeControl='60+0', UTCDate='2023.02.01', UTCTime='00:07:14', WhiteElo='2955', WhiteRatingDiff='+1', WhiteTitle='GM')\n",
      "Headers(Event='Rated Bullet game', Site='https://lichess.org/TDTOMXbp', Date='2023.02.01', Round='-', White='sebthebest', Black='hypokagne1', Result='1/2-1/2', BlackElo='2538', BlackRatingDiff='+0', ECO='B01', Opening='Scandinavian Defense', Termination='Normal', TimeControl='60+0', UTCDate='2023.02.01', UTCTime='00:07:30', WhiteElo='2516', WhiteRatingDiff='+0')\n",
      "Headers(Event='Rated Blitz game', Site='https://lichess.org/Z1rOS1Qp', Date='2023.02.01', Round='-', White='Alethiometer', Black='GangulyRocks', Result='0-1', BlackElo='2524', BlackRatingDiff='+6', ECO='C11', Opening='French Defense: Steinitz Variation, Boleslavsky Variation', Termination='Time forfeit', TimeControl='180+2', UTCDate='2023.02.01', UTCTime='00:07:30', WhiteElo='2533', WhiteRatingDiff='-6')\n",
      "Headers(Event='Rated Bullet game', Site='https://lichess.org/312v7Jlk', Date='2023.02.01', Round='-', White='Dmitriychesser', Black='froggy_tc', Result='1-0', BlackElo='2559', BlackRatingDiff='-4', ECO='A43', Opening='Benoni Defense: Old Benoni', Termination='Normal', TimeControl='30+0', UTCDate='2023.02.01', UTCTime='00:07:39', WhiteElo='2676', WhiteRatingDiff='+4')\n",
      "Headers(Event='Rated Blitz game', Site='https://lichess.org/y0PIMDMr', Date='2023.02.01', Round='-', White='Chillkroete77', Black='Greifax', Result='1-0', BlackElo='2531', BlackRatingDiff='-5', ECO='B40', Opening='Sicilian Defense: Pin Variation, Koch Variation', Termination='Normal', TimeControl='180+0', UTCDate='2023.02.01', UTCTime='00:07:19', WhiteElo='2583', WhiteRatingDiff='+5')\n",
      "Headers(Event='Rated Bullet game', Site='https://lichess.org/ak6Afx2W', Date='2023.02.01', Round='-', White='Pedrosky007', Black='chesskot1', Result='1-0', BlackElo='2569', BlackRatingDiff='-6', BlackTitle='FM', ECO='A41', Opening=\"Queen's Pawn Game\", Termination='Time forfeit', TimeControl='60+0', UTCDate='2023.02.01', UTCTime='00:07:49', WhiteElo='2512', WhiteRatingDiff='+7')\n",
      "Headers(Event='Rated Bullet game', Site='https://lichess.org/ToxH3hhW', Date='2023.02.01', Round='-', White='Popovich2020', Black='David_Castaneda', Result='1-0', BlackElo='2597', BlackRatingDiff='-2', ECO='A01', Opening='Nimzo-Larsen Attack: Classical Variation', Termination='Normal', TimeControl='60+0', UTCDate='2023.02.01', UTCTime='00:07:49', WhiteElo='2871', WhiteRatingDiff='+2', WhiteTitle='IM')\n",
      "Headers(Event='Rated Bullet game', Site='https://lichess.org/qhgBFNmP', Date='2023.02.01', Round='-', White='froggy_tc', Black='Dmitriychesser', Result='1-0', BlackElo='2680', BlackRatingDiff='-8', ECO='B21', Opening='Sicilian Defense: Smith-Morra Gambit', Termination='Time forfeit', TimeControl='30+0', UTCDate='2023.02.01', UTCTime='00:07:59', WhiteElo='2555', WhiteRatingDiff='+8')\n",
      "Headers(Event='Rated Blitz game', Site='https://lichess.org/6RVl1wkl', Date='2023.02.01', Round='-', White='estocastico', Black='anhao', Result='1-0', BlackElo='2727', BlackRatingDiff='-6', BlackTitle='NM', ECO='D02', Opening=\"Queen's Pawn Game: Zukertort Variation\", Termination='Time forfeit', TimeControl='180+0', UTCDate='2023.02.01', UTCTime='00:08:01', WhiteElo='2700', WhiteRatingDiff='+6', WhiteTitle='IM')\n",
      "Headers(Event='Rated Bullet game', Site='https://lichess.org/EcUZmutI', Date='2023.02.01', Round='-', White='sssssssssss2121', Black='Pikachuuu123', Result='0-1', BlackElo='2544', BlackRatingDiff='+6', ECO='A04', Opening='Zukertort Opening: Slav Invitation', Termination='Normal', TimeControl='60+0', UTCDate='2023.02.01', UTCTime='00:08:08', WhiteElo='2570', WhiteRatingDiff='-6')\n",
      "Headers(Event='Rated Blitz game', Site='https://lichess.org/3BU8LB8G', Date='2023.02.01', Round='-', White='wallywally', Black='dont_blunder', Result='0-1', BlackElo='2827', BlackRatingDiff='+4', ECO='C53', Opening='Italian Game: Classical Variation, Giuoco Pianissimo', Termination='Normal', TimeControl='180+0', UTCDate='2023.02.01', UTCTime='00:08:13', WhiteElo='2709', WhiteRatingDiff='-4')\n",
      "Headers(Event='Rated Bullet game', Site='https://lichess.org/TrCtaJsm', Date='2023.02.01', Round='-', White='IMFAR', Black='Leon_Livaic', Result='0-1', BlackElo='2918', BlackRatingDiff='+6', BlackTitle='GM', ECO='C18', Opening='French Defense: Winawer Variation, Advance Variation', Termination='Normal', TimeControl='60+0', UTCDate='2023.02.01', UTCTime='00:08:31', WhiteElo='2877', WhiteRatingDiff='-5', WhiteTitle='IM')\n",
      "Headers(Event='Rated Bullet game', Site='https://lichess.org/07KRpENW', Date='2023.02.01', Round='-', White='Thunder-In-Paradise', Black='Fightingphil13', Result='0-1', BlackElo='2625', BlackRatingDiff='+5', ECO='A46', Opening='Indian Defense: Wade-Tartakower Defense', Termination='Normal', TimeControl='60+0', UTCDate='2023.02.01', UTCTime='00:08:26', WhiteElo='2602', WhiteRatingDiff='-5', WhiteTitle='NM')\n",
      "Headers(Event='Rated Blitz game', Site='https://lichess.org/s9IBGhNU', Date='2023.02.01', Round='-', White='StockFisher_11Pro', Black='MrCR7', Result='1-0', BlackElo='2640', BlackRatingDiff='-29', ECO='E91', Opening=\"King's Indian Defense: Orthodox Variation\", Termination='Normal', TimeControl='180+0', UTCDate='2023.02.01', UTCTime='00:08:25', WhiteElo='2554', WhiteRatingDiff='+8')\n",
      "Headers(Event='Rated Bullet game', Site='https://lichess.org/3NiELYaj', Date='2023.02.01', Round='-', White='twoyearsold', Black='Monkeyibuljic', Result='0-1', BlackElo='2655', BlackRatingDiff='+6', ECO='A46', Opening='Indian Defense: Spielmann-Indian', Termination='Normal', TimeControl='60+0', UTCDate='2023.02.01', UTCTime='00:08:29', WhiteElo='2630', WhiteRatingDiff='-5')\n",
      "Headers(Event='Rated Bullet game', Site='https://lichess.org/wtVLc6kX', Date='2023.02.01', Round='-', White='White_7_Tiger', Black='acashmoney', Result='1-0', BlackElo='2617', BlackRatingDiff='-4', BlackTitle='NM', ECO='A00', Opening='Mieses Opening', Termination='Normal', TimeControl='60+0', UTCDate='2023.02.01', UTCTime='00:08:38', WhiteElo='2729', WhiteRatingDiff='+4')\n",
      "Headers(Event='Rated Bullet game', Site='https://lichess.org/r7gWqClh', Date='2023.02.01', Round='-', White='NotTodaySir', Black='markb0716', Result='0-1', BlackElo='2758', BlackRatingDiff='+4', BlackTitle='NM', ECO='B23', Opening='Sicilian Defense: Closed, Traditional', Termination='Normal', TimeControl='60+0', UTCDate='2023.02.01', UTCTime='00:08:41', WhiteElo='2673', WhiteRatingDiff='-5')\n",
      "Headers(Event='Rated Bullet game', Site='https://lichess.org/sseYtYlk', Date='2023.02.01', Round='-', White='Dmitriychesser', Black='froggy_tc', Result='1-0', BlackElo='2563', BlackRatingDiff='-4', ECO='A43', Opening='Benoni Defense: Old Benoni', Termination='Normal', TimeControl='30+0', UTCDate='2023.02.01', UTCTime='00:09:04', WhiteElo='2672', WhiteRatingDiff='+4')\n",
      "15588\n"
     ]
    }
   ],
   "source": [
    "game_count = 0\n",
    "games = get_games_over_2000()\n",
    "print(game_count)"
   ]
  },
  {
   "cell_type": "code",
   "execution_count": 49,
   "metadata": {},
   "outputs": [
    {
     "data": {
      "text/plain": [
       "'[Event \"Rated Bullet game\"]\\n[Site \"https://lichess.org/i2D9cMn6\"]\\n[Date \"2023.02.01\"]\\n[Round \"-\"]\\n[White \"Thunder-In-Paradise\"]\\n[Black \"BEAST_MODE_ON\"]\\n[Result \"1-0\"]\\n[BlackElo \"2633\"]\\n[BlackRatingDiff \"-7\"]\\n[ECO \"D22\"]\\n[Opening \"Queen\\'s Gambit Accepted: Alekhine Defense, Haberditz Variation\"]\\n[Termination \"Normal\"]\\n[TimeControl \"60+0\"]\\n[UTCDate \"2023.02.01\"]\\n[UTCTime \"00:00:24\"]\\n[WhiteElo \"2593\"]\\n[WhiteRatingDiff \"+6\"]\\n[WhiteTitle \"NM\"]\\n\\n1. d4 { [%clk 0:01:00] } 1... d5 { [%clk 0:01:00] } 2. c4 { [%clk 0:00:59] } 2... dxc4 { [%clk 0:01:00] } 3. Nf3 { [%clk 0:00:58] } 3... a6 { [%clk 0:01:00] } 4. e3 { [%clk 0:00:56] } 4... b5 { [%clk 0:00:59] } 5. a4 { [%clk 0:00:55] } 5... Bb7 { [%clk 0:00:58] } 6. b3 { [%clk 0:00:52] } 6... e6 { [%clk 0:00:55] } 7. bxc4 { [%clk 0:00:51] } 7... bxc4 { [%clk 0:00:55] } 8. Bxc4 { [%clk 0:00:49] } 8... Nf6 { [%clk 0:00:55] } 9. O-O { [%clk 0:00:47] } 9... c5 { [%clk 0:00:55] } 10. Ba3 { [%clk 0:00:46] } 10... Nbd7 { [%clk 0:00:54] } 11. Nc3 { [%clk 0:00:43] } 11... cxd4 { [%clk 0:00:50] } 12. Bxf8 { [%clk 0:00:41] } 12... Nxf8 { [%clk 0:00:47] } 13. Nxd4 { [%clk 0:00:41] } 13... N8d7 { [%clk 0:00:46] } 14. Bxe6 { [%clk 0:00:39] } 14... fxe6 { [%clk 0:00:43] } 15. Nxe6 { [%clk 0:00:39] } 15... Qb6 { [%clk 0:00:43] } 16. Nxg7+ { [%clk 0:00:31] } 16... Kf7 { [%clk 0:00:42] } 17. Nf5 { [%clk 0:00:30] } 17... Qc6 { [%clk 0:00:38] } 18. f3 { [%clk 0:00:21] } 18... Rad8 { [%clk 0:00:32] } 19. Rb1 { [%clk 0:00:19] } 19... Ba8 { [%clk 0:00:31] } 20. Qb3+ { [%clk 0:00:16] } 20... Kg6 { [%clk 0:00:30] } 21. g4 { [%clk 0:00:13] } 21... Rhe8 { [%clk 0:00:28] } 22. Ne2 { [%clk 0:00:12] } 22... Nc5 { [%clk 0:00:24] } 23. Nf4+ { [%clk 0:00:10] } 23... Kg5 { [%clk 0:00:20] } 24. h4# { [%clk 0:00:10] } 1-0'"
      ]
     },
     "execution_count": 49,
     "metadata": {},
     "output_type": "execute_result"
    }
   ],
   "source": [
    "\n",
    "str(games[1])"
   ]
  },
  {
   "attachments": {},
   "cell_type": "markdown",
   "metadata": {},
   "source": [
    "with 2500 rating cutoff we get 15588 games where 100 of them are within curoff. This is out of 100M games. Resulting file is 300kB. For all games we get roughly 1.9GB file to keep only 2500 rated games"
   ]
  },
  {
   "cell_type": "code",
   "execution_count": 54,
   "metadata": {},
   "outputs": [],
   "source": [
    "def write_games_to_pgn_file(games):\n",
    "    \"\"\"Write games to a pgn file.\"\"\"\n",
    "    with open(\"games.pgn\", \"w\") as f:\n",
    "        for game in games:\n",
    "            f.write(str(game) + \"\\n\\n\")"
   ]
  },
  {
   "cell_type": "code",
   "execution_count": 55,
   "metadata": {},
   "outputs": [],
   "source": [
    "write_games_to_pgn_file(games)"
   ]
  },
  {
   "cell_type": "code",
   "execution_count": 56,
   "metadata": {},
   "outputs": [
    {
     "data": {
      "text/plain": [
       "<Game at 0x10bdad590 ('sebthebest' vs. 'beforeafter1', '2023.02.01')>"
      ]
     },
     "execution_count": 56,
     "metadata": {},
     "output_type": "execute_result"
    }
   ],
   "source": [
    "pgn = open(\"games.pgn\")\n",
    "game = chess.pgn.read_game(pgn)\n",
    "game"
   ]
  },
  {
   "cell_type": "code",
   "execution_count": 59,
   "metadata": {},
   "outputs": [
    {
     "data": {
      "text/plain": [
       "<Game at 0x10b6a86d0 ('IMFAR' vs. 'White_7_Tiger', '2023.02.01')>"
      ]
     },
     "execution_count": 59,
     "metadata": {},
     "output_type": "execute_result"
    }
   ],
   "source": [
    "chess.pgn.read_game(pgn)"
   ]
  }
 ],
 "metadata": {
  "kernelspec": {
   "display_name": "chess-opening-trainer",
   "language": "python",
   "name": "python3"
  },
  "language_info": {
   "codemirror_mode": {
    "name": "ipython",
    "version": 3
   },
   "file_extension": ".py",
   "mimetype": "text/x-python",
   "name": "python",
   "nbconvert_exporter": "python",
   "pygments_lexer": "ipython3",
   "version": "3.11.0"
  },
  "orig_nbformat": 4
 },
 "nbformat": 4,
 "nbformat_minor": 2
}
